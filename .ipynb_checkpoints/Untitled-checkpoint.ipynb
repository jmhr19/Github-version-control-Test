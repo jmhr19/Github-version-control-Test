{
 "cells": [
  {
   "cell_type": "markdown",
   "id": "318c2515",
   "metadata": {},
   "source": [
    "# This is a Test Python file for github"
   ]
  },
  {
   "cell_type": "markdown",
   "id": "4c87f654",
   "metadata": {},
   "source": [
    " git config --global user.name \"Your Name\"\n",
    " \n",
    " git config --global user.email \"you@youraddress.com\"\n",
    " \n",
    " git config --global push.default matching\n",
    " \n",
    " git config --global alias.co checkout\n",
    " \n",
    " git init\n",
    " \n",
    " git add .\n",
    " \n",
    " git commit -am \"Your comments\"\n",
    " \n",
    " git remote add origin https://github.com/jmhr19/Github-version-control-Test.git\n",
    " \n",
    " git push -u origin main\n",
    " "
   ]
  },
  {
   "cell_type": "markdown",
   "id": "e8cea779",
   "metadata": {},
   "source": [
    "### Create SSH key\n",
    "\n",
    "cd mkdir .ssh\n",
    "\n",
    "cd .ssh\n",
    "\n",
    "ssh-keygen.exe\n",
    "\n",
    "cd /c/Users/<>/.ssh/\n",
    "\n",
    "cat /c/Users/<>/.ssh/id_rsa.pub\n"
   ]
  },
  {
   "cell_type": "code",
   "execution_count": null,
   "id": "0d8903b5",
   "metadata": {},
   "outputs": [],
   "source": []
  }
 ],
 "metadata": {
  "kernelspec": {
   "display_name": "Python 3 (ipykernel)",
   "language": "python",
   "name": "python3"
  },
  "language_info": {
   "codemirror_mode": {
    "name": "ipython",
    "version": 3
   },
   "file_extension": ".py",
   "mimetype": "text/x-python",
   "name": "python",
   "nbconvert_exporter": "python",
   "pygments_lexer": "ipython3",
   "version": "3.8.12"
  }
 },
 "nbformat": 4,
 "nbformat_minor": 5
}
