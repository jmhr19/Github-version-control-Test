{
 "cells": [
  {
   "cell_type": "markdown",
   "id": "f3061658",
   "metadata": {},
   "source": [
    "# This is a Test Python file for github"
   ]
  },
  {
   "cell_type": "raw",
   "id": "499934ec",
   "metadata": {},
   "source": [
    "\n",
    "$ git config --global user.name \"Your Name\"\n",
    "$ git config --global user.email \"you@youraddress.com\"\n",
    "$ git config --global push.default matching\n",
    "$ git config --global alias.co checkout\n",
    "$ git init\n",
    "$ git add .\n",
    "$ git commit -am \"Your comments\""
   ]
  },
  {
   "cell_type": "raw",
   "id": "eac86476",
   "metadata": {},
   "source": [
    "cd mkdir .ssh\n",
    "cd .ssh\n",
    "ssh-keygen.exe\n",
    "cd /c/Users/<>/.ssh/\n",
    "cat /c/Users/<>/.ssh/id_rsa.pub\n"
   ]
  },
  {
   "cell_type": "code",
   "execution_count": null,
   "id": "23ef9e4f",
   "metadata": {},
   "outputs": [],
   "source": []
  }
 ],
 "metadata": {
  "kernelspec": {
   "display_name": "Python 3 (ipykernel)",
   "language": "python",
   "name": "python3"
  },
  "language_info": {
   "codemirror_mode": {
    "name": "ipython",
    "version": 3
   },
   "file_extension": ".py",
   "mimetype": "text/x-python",
   "name": "python",
   "nbconvert_exporter": "python",
   "pygments_lexer": "ipython3",
   "version": "3.8.12"
  }
 },
 "nbformat": 4,
 "nbformat_minor": 5
}
